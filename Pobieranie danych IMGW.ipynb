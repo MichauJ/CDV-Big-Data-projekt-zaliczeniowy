{
 "cells": [
  {
   "cell_type": "code",
   "execution_count": null,
   "id": "e7d8b5bf",
   "metadata": {},
   "outputs": [],
   "source": [
    "import os\n",
    "import requests\n",
    "from bs4 import BeautifulSoup as bs\n",
    "from datetime import datetime\n",
    "import zipfile\n",
    "import shutil\n",
    "import re"
   ]
  },
  {
   "cell_type": "code",
   "execution_count": null,
   "id": "7aaf6c6d",
   "metadata": {},
   "outputs": [],
   "source": [
    "#Ustalenie katalogu roboczego ze zmiennej środowiskowej. \n",
    "if os.getenv(\"Gdrive_studia\") is not None:\n",
    "    os.chdir(os.getenv(\"Gdrive_studia\"))\n",
    "else:\n",
    "    print(f\"Obecny folder roboczy: {os.getcwdb()}\")"
   ]
  },
  {
   "cell_type": "code",
   "execution_count": null,
   "id": "bb47a08b",
   "metadata": {},
   "outputs": [],
   "source": [
    "# Foldery docelowy na pobrane pliki\n",
    "foldery_docelowe = {\n",
    "    \"klimat\":\"Big Data/Projekt/Dane/dane_pomiarowo_obserwacyjne/dane_meteorologiczne/dobowe/klimat/\",\n",
    "    \"opad\":\"Big Data/Projekt/Dane/dane_pomiarowo_obserwacyjne/dane_meteorologiczne/dobowe/opad/\",\n",
    "    \"synop\":\"Big Data/Projekt/Dane/dane_pomiarowo_obserwacyjne/dane_meteorologiczne/dobowe/synop/\"\n",
    "}\n",
    "bazowe_url = {\n",
    "   \"klimat\": \"https://danepubliczne.imgw.pl/data/dane_pomiarowo_obserwacyjne/dane_meteorologiczne/dobowe/klimat/\",\n",
    "    \"opad\": \"https://danepubliczne.imgw.pl/data/dane_pomiarowo_obserwacyjne/dane_meteorologiczne/dobowe/opad/\"\n",
    "    #,\"synop\": \"https://danepubliczne.imgw.pl/data/dane_pomiarowo_obserwacyjne/dane_meteorologiczne/dobowe/synop/\"\n",
    "}\n",
    "skróty = (\"k\",\"o\"\n",
    "          #,\"s\"\n",
    "         )\n",
    "lata_początkowe = (1951,1950\n",
    "                   #,1960\n",
    "                  )"
   ]
  },
  {
   "cell_type": "code",
   "execution_count": null,
   "id": "5a4e1de6",
   "metadata": {},
   "outputs": [],
   "source": [
    "for docelowy_folder in foldery_docelowe.values():\n",
    "# Tworzy folder docelowy jeżeli nie istnieje\n",
    "    os.makedirs(docelowy_folder, exist_ok=True)"
   ]
  },
  {
   "cell_type": "markdown",
   "id": "01fd275f",
   "metadata": {},
   "source": [
    "#### Stworzenie listy linków na bazie formatu używanego przez IMGW"
   ]
  },
  {
   "cell_type": "code",
   "execution_count": null,
   "id": "d736629a",
   "metadata": {
    "scrolled": true
   },
   "outputs": [],
   "source": [
    "def stworz_liste_linkow_do_pobrania(baza_url:str ,skrót: str) -> list:\n",
    "    \"\"\"\n",
    "    Funkcja przygotowuję listę linków do plików według szablonu używanego przez IMGW.\n",
    "    Args:\n",
    "    baza_url: szablon linku\n",
    "    skrót: \"k\" - klimat, \"o\" - opady\n",
    "    \n",
    "    \"\"\"\n",
    "    #baza_url = \"https://danepubliczne.imgw.pl/data/dane_pomiarowo_obserwacyjne/dane_meteorologiczne/dobowe/klimat/\"    \n",
    "    lista_linków = []\n",
    "    rok_poczatkowy = 1951\n",
    "    # Pierwszy folder opadów ma inny format w związku z rozpoczęciem pomiarów od 1950 więc wymaga specjalnego potraktowania\n",
    "    rok = 1950 if skrót == \"o\" else rok_poczatkowy\n",
    "    if skrót == \"o\":\n",
    "        for i in range(0,6):\n",
    "            download_link = f\"{baza_url}{1950}_{1955}/{1950+i}_{skrót}.zip\"\n",
    "            print(download_link)\n",
    "            lista_linków.append(download_link)\n",
    "        rok = 1956\n",
    "    while rok <2000:\n",
    "        for i in range(0,5):\n",
    "            download_link = f\"{baza_url}{rok}_{rok+4}/{rok+i}_{skrót}.zip\"\n",
    "            print(download_link)\n",
    "            lista_linków.append(download_link)\n",
    "        rok += 5\n",
    "    obecny_rok = datetime.now().year\n",
    "    while rok <= obecny_rok:\n",
    "        for miesiac in range(1,13):\n",
    "            miesiac_sformatowany = f\"{miesiac:02}\"\n",
    "            download_link = f\"{baza_url}{rok}/{rok}_{miesiac_sformatowany}_{skrót}.zip\"\n",
    "            lista_linków.append(download_link)\n",
    "        rok += 1\n",
    "    return lista_linków\n",
    "linki_do_wywolania_klimat = stworz_liste_linkow_do_pobrania(bazowe_url['klimat'],skrót=\"k\")\n",
    "linki_do_wywolania_opady = stworz_liste_linkow_do_pobrania(bazowe_url['opad'],skrót=\"o\")"
   ]
  },
  {
   "cell_type": "markdown",
   "id": "68197ad7",
   "metadata": {},
   "source": [
    "#### Funkcja pobierająca dane"
   ]
  },
  {
   "cell_type": "code",
   "execution_count": null,
   "id": "46192b88",
   "metadata": {},
   "outputs": [],
   "source": [
    "def pobierz_dane_z_linkow(lista_linków, folder_docelowy):\n",
    "    \"\"\"\n",
    "    Pobiera dane z listy linków i zapisuje je w podanym folderze.\n",
    "\n",
    "    Args:\n",
    "        linki_do_wywolania (list): Lista linków do pobrania.\n",
    "        folder_docelowy (str): Ścieżka do folderu, w którym mają być zapisane pliki.\n",
    "    Returns:\n",
    "        dict: Podsumowanie pobrań (sukcesy i błędy).\n",
    "    \"\"\"\n",
    "    # Sprawdzenie czy folder docelowy istnieje\n",
    "    os.makedirs(folder_docelowy, exist_ok=True)\n",
    "\n",
    "    sukcesy = 0\n",
    "    niepowodzenia = 0\n",
    "\n",
    "    for link in lista_linków:\n",
    "        try:\n",
    "            # Pobranie nazwy pliku z linku\n",
    "            nazwa_pliku = link.split('/')[-1]\n",
    "            sciezka_do_pliku = os.path.join(folder_docelowy, nazwa_pliku)\n",
    "            if nazwa_pliku not in os.listdir(folder_docelowy):\n",
    "                # Pobierz dane z linku\n",
    "                print(f\"Pobieranie: {link}\")\n",
    "                response = requests.get(link, stream=True)\n",
    "                response.raise_for_status()  # Sprawdzenie, czy nie było błędów HTTP\n",
    "\n",
    "                # Zapisanie pliku na dysku\n",
    "                with open(sciezka_do_pliku, 'wb') as plik:\n",
    "                    for chunk in response.iter_content(chunk_size=8192):\n",
    "                        plik.write(chunk)\n",
    "\n",
    "                print(f\"Pobrano i zapisano: {sciezka_do_pliku}\")\n",
    "                sukcesy += 1\n",
    "        except requests.exceptions.RequestException as e:\n",
    "            print(f\"Błąd podczas pobierania {link}: {e}\")\n",
    "            niepowodzenia += 1\n",
    "\n",
    "    # Podsumowanie\n",
    "    print( {\n",
    "        \"sukcesy\": sukcesy,\n",
    "        \"niepowodzenia\": niepowodzenia\n",
    "    })"
   ]
  },
  {
   "cell_type": "markdown",
   "id": "258fa357",
   "metadata": {},
   "source": [
    "#### Pobranie danych"
   ]
  },
  {
   "cell_type": "code",
   "execution_count": null,
   "id": "59ba9062",
   "metadata": {
    "scrolled": true
   },
   "outputs": [],
   "source": [
    "pobierz_dane_z_linkow(lista_linków=linki_do_wywolania_klimat ,folder_docelowy=foldery_docelowe['klimat'])\n",
    "pobierz_dane_z_linkow(lista_linków=linki_do_wywolania_opady ,folder_docelowy=foldery_docelowe['opad'])"
   ]
  },
  {
   "cell_type": "markdown",
   "id": "a450e842",
   "metadata": {},
   "source": [
    "#### Wypakowanie wszystkich plików zip"
   ]
  },
  {
   "cell_type": "code",
   "execution_count": null,
   "id": "62aa847a",
   "metadata": {},
   "outputs": [],
   "source": [
    "def wypakuj_pliki_zip(folder_docelowy: str):\n",
    "    \"\"\"\n",
    "    Wypakowuje wszystkie pliki ZIP w podanym folderze. Finalnie pokazuje listę plików błędów przy rozpakowaniu.\n",
    "\n",
    "    Args:\n",
    "        folder_docelowy (str): Ścieżka do folderu, w którym znajdują się pliki ZIP.\n",
    "    \"\"\"\n",
    "    błędy = {}\n",
    "    \n",
    "    # Wypakowanie wszystkich plików ZIP\n",
    "    for nazwa_pliku in os.listdir(folder_docelowy):\n",
    "        sciezka_pliku = os.path.join(folder_docelowy, nazwa_pliku)\n",
    "\n",
    "        # Sprawdzenie, czy plik jest archiwum ZIP\n",
    "        if zipfile.is_zipfile(sciezka_pliku):\n",
    "            try:\n",
    "                print(f\"Wypakowywanie: {nazwa_pliku}\")\n",
    "                with zipfile.ZipFile(sciezka_pliku, 'r') as zip_ref:\n",
    "                    zip_ref.extractall(folder_docelowy)\n",
    "                print(f\"Pomyślnie wypakowano: {nazwa_pliku}\")\n",
    "            except Exception as e:\n",
    "                błędy[nazwa_pliku] = e\n",
    "                print(f\"Błąd podczas wypakowywania {nazwa_pliku}: {e}\")\n",
    "    \n",
    "    # Usunięcie plików ZIP po udanym wypakowaniu     \n",
    "    for nazwa_pliku in os.listdir(folder_docelowy):\n",
    "        if nazwa_pliku not in list(błędy.keys()):      \n",
    "            sciezka_pliku = os.path.join(folder_docelowy, nazwa_pliku)\n",
    "            if sciezka_pliku.endswith('.zip') and os.path.isfile(sciezka_pliku):\n",
    "                try:\n",
    "                    os.remove(sciezka_pliku)\n",
    "                    print(f\"Usunięto plik ZIP: {nazwa_pliku}\")\n",
    "                except Exception as e:\n",
    "                    błędy[nazwa_pliku] = e\n",
    "                    print(f\"Błąd podczas usuwania {nazwa_pliku}: {e}\")\n",
    "        else:\n",
    "            continue\n",
    "\n",
    "    print(błędy)\n"
   ]
  },
  {
   "cell_type": "code",
   "execution_count": null,
   "id": "aa3e2fab",
   "metadata": {},
   "outputs": [],
   "source": [
    "wypakuj_pliki_zip(foldery_docelowe['klimat'])\n",
    "wypakuj_pliki_zip(foldery_docelowe['opad'])"
   ]
  },
  {
   "cell_type": "code",
   "execution_count": null,
   "id": "141af06d",
   "metadata": {},
   "outputs": [],
   "source": [
    "def partycjonowanie_pionowe_rok(folder: str):\n",
    "    \"\"\"\n",
    "    Partycjonuje pliki CSV w folderze względem roku, tworząc podfoldery dla każdego roku.\n",
    "\n",
    "    Args:\n",
    "        folder (str): Ścieżka do folderu z plikami.\n",
    "    \"\"\"\n",
    "    # Iteruj przez wszystkie pliki w folderze\n",
    "    for nazwa_pliku in os.listdir(folder):\n",
    "        sciezka_pliku = os.path.join(folder, nazwa_pliku)\n",
    "\n",
    "        # Sprawdź, czy plik jest CSV i dopasuj jego nazwę do wzorca\n",
    "        if nazwa_pliku.endswith('.csv'):\n",
    "            # Wzorce dla nazw plików\n",
    "            wzorzec_nowy_format = r'^k?o?_d_?t?_\\d{2}_(\\d{4})\\.csv$'  # np. k_d_01_2022.csv\n",
    "            wzorzec_stary_format = r'^k?o?_d_?t?_(\\d{4})\\.csv$'       # np. k_d_2000.csv            \n",
    "            dopasowanie_nowy = re.match(wzorzec_nowy_format, nazwa_pliku)\n",
    "            dopasowanie_stary = re.match(wzorzec_stary_format, nazwa_pliku)\n",
    "\n",
    "            if dopasowanie_nowy:\n",
    "                rok = dopasowanie_nowy.group(1)\n",
    "            elif dopasowanie_stary:\n",
    "                rok = dopasowanie_stary.group(1)\n",
    "            else:\n",
    "                print(f\"Plik {nazwa_pliku} nie pasuje do żadnego wzorca, pomijam.\")\n",
    "                continue\n",
    "\n",
    "            # Tworzenie folderu dla danego roku\n",
    "            folder_rok = os.path.join(folder, rok)\n",
    "            os.makedirs(folder_rok, exist_ok=True)\n",
    "\n",
    "            # Przeniesienie pliku do folderu\n",
    "            try:\n",
    "                shutil.move(sciezka_pliku, os.path.join(folder_rok, nazwa_pliku))\n",
    "                print(f\"Przeniesiono {nazwa_pliku} do {folder_rok}\")\n",
    "            except Exception as e:\n",
    "                print(f\"Błąd podczas przenoszenia pliku {nazwa_pliku}: {e}\")\n",
    "\n"
   ]
  },
  {
   "cell_type": "code",
   "execution_count": null,
   "id": "4e4a62c9",
   "metadata": {},
   "outputs": [],
   "source": [
    "partycjonowanie_pionowo_rok(foldery_docelowe['klimat'])"
   ]
  },
  {
   "cell_type": "code",
   "execution_count": null,
   "id": "64e9b2e1",
   "metadata": {},
   "outputs": [],
   "source": [
    "partycjonowanie_pionowe_rok(foldery_docelowe['opad'])"
   ]
  }
 ],
 "metadata": {
  "kernelspec": {
   "display_name": "Python 3 (ipykernel)",
   "language": "python",
   "name": "python3"
  },
  "language_info": {
   "codemirror_mode": {
    "name": "ipython",
    "version": 3
   },
   "file_extension": ".py",
   "mimetype": "text/x-python",
   "name": "python",
   "nbconvert_exporter": "python",
   "pygments_lexer": "ipython3",
   "version": "3.9.13"
  }
 },
 "nbformat": 4,
 "nbformat_minor": 5
}
